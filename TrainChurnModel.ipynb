{
 "cells": [
  {
   "cell_type": "code",
   "execution_count": null,
   "id": "impaired-stylus",
   "metadata": {},
   "outputs": [],
   "source": [
    "import json\n",
    "from pathlib import Path\n",
    "\n",
    "import matplotlib.pyplot as plt\n",
    "import pandas as pd\n",
    "from joblib import dump, load\n",
    "from lightgbm import LGBMClassifier\n",
    "from sklearn.ensemble import RandomForestClassifier\n",
    "from sklearn.metrics import f1_score, plot_confusion_matrix, roc_auc_score\n",
    "from sklearn.model_selection import train_test_split"
   ]
  },
  {
   "cell_type": "markdown",
   "id": "b527b088",
   "metadata": {},
   "source": [
    "## Setup Parameters"
   ]
  },
  {
   "cell_type": "code",
   "execution_count": null,
   "id": "1f549705",
   "metadata": {},
   "outputs": [],
   "source": [
    "churn_filepath = Path('data')/'Churn_Modelling.csv'\n",
    "cat_cols = []\n",
    "num_cols =  [\n",
    "        'CreditScore',\n",
    "        'Age',\n",
    "        'Tenure',\n",
    "        'Balance',\n",
    "        'NumOfProducts',\n",
    "        'HasCrCard',\n",
    "        'IsActiveMember',\n",
    "        'EstimatedSalary'\n",
    "        ]\n",
    "targ_col = 'Exited'\n",
    "test_size = 0.25\n",
    "random_state = 42\n",
    "models_dir = Path('models')\n",
    "models_dir.mkdir(exist_ok=True)\n",
    "model_fname = 'model.joblib'"
   ]
  },
  {
   "cell_type": "code",
   "execution_count": null,
   "id": "68143cca",
   "metadata": {
    "tags": [
     "parameters"
    ]
   },
   "outputs": [],
   "source": [
    "# papermill parameter\n",
    "model_type = 'random-forest'\n",
    "n_estimators = 50\n",
    "max_depth = 5"
   ]
  },
  {
   "cell_type": "code",
   "execution_count": null,
   "id": "9f7dcc84",
   "metadata": {},
   "outputs": [],
   "source": [
    "train_params = {'n_estimators': n_estimators, \n",
    "                'max_depth': max_depth}"
   ]
  },
  {
   "cell_type": "markdown",
   "id": "8f6eb476",
   "metadata": {},
   "source": [
    "## Read Data"
   ]
  },
  {
   "cell_type": "code",
   "execution_count": null,
   "id": "continued-juvenile",
   "metadata": {},
   "outputs": [],
   "source": [
    "df = pd.read_csv(churn_filepath)\n",
    "df.head()"
   ]
  },
  {
   "cell_type": "markdown",
   "id": "3e564cef",
   "metadata": {},
   "source": [
    "## Data Exploration"
   ]
  },
  {
   "cell_type": "code",
   "execution_count": null,
   "id": "bb0d9f24",
   "metadata": {},
   "outputs": [],
   "source": [
    "df.shape"
   ]
  },
  {
   "cell_type": "code",
   "execution_count": null,
   "id": "unnecessary-roots",
   "metadata": {},
   "outputs": [],
   "source": [
    "# Are there missing values?\n",
    "df.isna().sum()"
   ]
  },
  {
   "cell_type": "code",
   "execution_count": null,
   "id": "b025ccce",
   "metadata": {},
   "outputs": [],
   "source": [
    "df['Geography'].value_counts()"
   ]
  },
  {
   "cell_type": "markdown",
   "id": "c3ea8fe6",
   "metadata": {},
   "source": [
    "## Data Preprocessing and Splitting"
   ]
  },
  {
   "cell_type": "code",
   "execution_count": null,
   "id": "junior-rating",
   "metadata": {},
   "outputs": [],
   "source": [
    "X, y = df[cat_cols + num_cols], df[targ_col]"
   ]
  },
  {
   "cell_type": "code",
   "execution_count": null,
   "id": "c4d476a6",
   "metadata": {},
   "outputs": [],
   "source": [
    "y.mean()"
   ]
  },
  {
   "cell_type": "code",
   "execution_count": null,
   "id": "historic-doubt",
   "metadata": {},
   "outputs": [],
   "source": [
    "X_train, X_test, y_train, y_test = train_test_split(X, y, \n",
    "                                                    test_size=test_size, \n",
    "                                                    random_state=random_state)"
   ]
  },
  {
   "cell_type": "markdown",
   "id": "68e8e2a8",
   "metadata": {},
   "source": [
    "## Train Model"
   ]
  },
  {
   "cell_type": "code",
   "execution_count": null,
   "id": "infinite-african",
   "metadata": {},
   "outputs": [],
   "source": [
    "if model_type == 'random-forest':\n",
    "    clf = RandomForestClassifier(random_state=random_state, **train_params)\n",
    "elif model_type == 'lightgbm':\n",
    "    clf = LGBMClassifier(random_state=random_state, **train_params)\n",
    "else:\n",
    "    raise Exception('Unsupported model_type')\n",
    "clf.fit(X_train, y_train)"
   ]
  },
  {
   "cell_type": "code",
   "execution_count": null,
   "id": "0abd4ddd",
   "metadata": {},
   "outputs": [],
   "source": [
    "dump(clf, models_dir/model_fname)"
   ]
  },
  {
   "cell_type": "code",
   "execution_count": null,
   "id": "6d186164",
   "metadata": {},
   "outputs": [],
   "source": [
    "clf = load(models_dir/model_fname)"
   ]
  },
  {
   "cell_type": "markdown",
   "id": "92cdffae",
   "metadata": {},
   "source": [
    "## Model Evaluation"
   ]
  },
  {
   "cell_type": "code",
   "execution_count": null,
   "id": "cf6e9348",
   "metadata": {},
   "outputs": [],
   "source": [
    "plot_confusion_matrix(clf, X_test, y_test, normalize='true', cmap=plt.cm.Blues)\n",
    "plt.savefig(Path('eval_plots')/'cm.png')"
   ]
  },
  {
   "cell_type": "code",
   "execution_count": null,
   "id": "355e6b29",
   "metadata": {},
   "outputs": [],
   "source": [
    "y_prob = clf.predict_proba(X_test)\n",
    "y_pred = y_prob[:, 1] >= 0.5"
   ]
  },
  {
   "cell_type": "code",
   "execution_count": null,
   "id": "ea800797",
   "metadata": {},
   "outputs": [],
   "source": [
    "from dvclive import Live\n",
    "live = Live(\"eval_plots\")\n",
    "live.log_plot(\"roc\", y_test, y_prob[:, 1])"
   ]
  },
  {
   "cell_type": "code",
   "execution_count": null,
   "id": "66a27f73",
   "metadata": {},
   "outputs": [],
   "source": [
    "f1 = f1_score(y_test, y_pred)\n",
    "roc_auc = roc_auc_score(y_test, y_prob[:, 1])\n",
    "metrics = {\n",
    "        'f1': f1,\n",
    "        'roc_auc': roc_auc\n",
    "    }\n",
    "metrics"
   ]
  },
  {
   "cell_type": "code",
   "execution_count": null,
   "id": "33561237",
   "metadata": {},
   "outputs": [],
   "source": [
    "json.dump(\n",
    "    obj=metrics,\n",
    "    fp=open('metrics.json', 'w'),\n",
    "    indent=4, \n",
    "    sort_keys=True\n",
    ")"
   ]
  }
 ],
 "metadata": {
  "kernelspec": {
   "display_name": "Python 3.9.10 ('.venv': venv)",
   "language": "python",
   "name": "python3"
  },
  "language_info": {
   "codemirror_mode": {
    "name": "ipython",
    "version": 3
   },
   "file_extension": ".py",
   "mimetype": "text/x-python",
   "name": "python",
   "nbconvert_exporter": "python",
   "pygments_lexer": "ipython3",
   "version": "3.9.10"
  },
  "vscode": {
   "interpreter": {
    "hash": "e910e63c37a66cc726b4e77e59b06d8cd1e2f839f987a133c76680f0deee0742"
   }
  }
 },
 "nbformat": 4,
 "nbformat_minor": 5
}
